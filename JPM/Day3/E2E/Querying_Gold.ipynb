{
 "cells": [
  {
   "cell_type": "code",
   "execution_count": 0,
   "metadata": {
    "application/vnd.databricks.v1+cell": {
     "cellMetadata": {
      "byteLimit": 2048000,
      "implicitDf": true,
      "rowLimit": 10000
     },
     "inputWidgets": {},
     "nuid": "0509eb24-777f-4e71-b9a5-91b0877eda60",
     "showTitle": false,
     "tableResultSettingsMap": {},
     "title": ""
    }
   },
   "outputs": [],
   "source": [
    "%sql\n",
    "--select * from jpm.subro_gold.top_15_customers\n",
    "select * from jpm.subro_gold.top_15_customers"
   ]
  },
  {
   "cell_type": "code",
   "execution_count": 0,
   "metadata": {
    "application/vnd.databricks.v1+cell": {
     "cellMetadata": {
      "byteLimit": 2048000,
      "implicitDf": true,
      "rowLimit": 10000
     },
     "inputWidgets": {},
     "nuid": "96016c19-b0a4-4ac4-9f64-adba1610aca2",
     "showTitle": false,
     "tableResultSettingsMap": {},
     "title": ""
    }
   },
   "outputs": [],
   "source": [
    "%sql\n",
    "show create table jpm.naval.sales_part"
   ]
  },
  {
   "cell_type": "code",
   "execution_count": 0,
   "metadata": {
    "application/vnd.databricks.v1+cell": {
     "cellMetadata": {
      "byteLimit": 2048000,
      "implicitDf": true,
      "rowLimit": 10000
     },
     "inputWidgets": {},
     "nuid": "594366e4-f346-47e1-96b8-4df459049865",
     "showTitle": false,
     "tableResultSettingsMap": {},
     "title": ""
    }
   },
   "outputs": [],
   "source": [
    "%sql\n",
    "--df_inner=df_customer.join(df_tran, df_customer.cust_id==df_tran.cust_id, \"inner\").select(df_customer.cust_id,df_customer.name,df_customer.age,df_customer.gender,--df_customer.birthday,df_customer.zip,df_customer.city,df_tran.start_date,df_tran.end_date,df_tran.txn_id,df_tran.date,df_tran.expense_type,df_tran.amt)\n",
    "\n",
    "select c.name, c.age, t.expense_type, sum(t.amt) as Amount\n",
    "from jpm.subro_silver.customer c\n",
    "left outer join jpm.subro_silver.transactions t\n",
    "on c.cust_id = t.cust_id\n",
    "group by 1,2,3"
   ]
  }
 ],
 "metadata": {
  "application/vnd.databricks.v1+notebook": {
   "computePreferences": null,
   "dashboards": [],
   "environmentMetadata": {
    "base_environment": "",
    "environment_version": "2"
   },
   "language": "python",
   "notebookMetadata": {
    "mostRecentlyExecutedCommandWithImplicitDF": {
     "commandId": 5618114745093949,
     "dataframes": [
      "_sqldf"
     ]
    },
    "pythonIndentUnit": 4
   },
   "notebookName": "Querying_Gold",
   "widgets": {}
  },
  "language_info": {
   "name": "python"
  }
 },
 "nbformat": 4,
 "nbformat_minor": 0
}
