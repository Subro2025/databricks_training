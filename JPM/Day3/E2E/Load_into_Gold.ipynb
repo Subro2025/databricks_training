{
 "cells": [
  {
   "cell_type": "code",
   "execution_count": 0,
   "metadata": {
    "application/vnd.databricks.v1+cell": {
     "cellMetadata": {
      "byteLimit": 2048000,
      "rowLimit": 10000
     },
     "inputWidgets": {},
     "nuid": "03bb9e60-09eb-451d-b599-0db7fc06ec0e",
     "showTitle": false,
     "tableResultSettingsMap": {},
     "title": ""
    }
   },
   "outputs": [],
   "source": [
    "df_customer= spark.table(\"jpm.naval_silver.silver_customer\")\n",
    "df_tran=spark.table(\"jpm.naval_silver.silver_transaction\")\n",
    "\n",
    "df_tran.withColumnsRenamed({\"cust_id\":\"cust_id_tran\",\"city\":\"city_tran\"})"
   ]
  },
  {
   "cell_type": "code",
   "execution_count": 0,
   "metadata": {
    "application/vnd.databricks.v1+cell": {
     "cellMetadata": {
      "byteLimit": 2048000,
      "rowLimit": 10000
     },
     "inputWidgets": {},
     "nuid": "723a5bb0-c6e5-4eae-8119-2754a6c7d190",
     "showTitle": false,
     "tableResultSettingsMap": {},
     "title": ""
    }
   },
   "outputs": [],
   "source": [
    "df_inner=df_customer.join(df_tran, df_customer.cust_id==df_tran.cust_id, \"inner\").select(df_customer.cust_id,df_customer.name,df_customer.age,df_customer.gender,df_customer.birthday,df_customer.zip,df_customer.city,df_tran.start_date,df_tran.end_date,df_tran.txn_id,df_tran.date,df_tran.expense_type,df_tran.amt)"
   ]
  },
  {
   "cell_type": "code",
   "execution_count": 0,
   "metadata": {
    "application/vnd.databricks.v1+cell": {
     "cellMetadata": {
      "byteLimit": 2048000,
      "rowLimit": 10000
     },
     "inputWidgets": {},
     "nuid": "0f51844c-1d45-47f7-8be4-b7c4fef1b943",
     "showTitle": false,
     "tableResultSettingsMap": {},
     "title": ""
    }
   },
   "outputs": [],
   "source": [
    "df_inner.write.mode(\"overwrite\").saveAsTable(\"jpm.subro_gold.customer_transactions\")"
   ]
  }
 ],
 "metadata": {
  "application/vnd.databricks.v1+notebook": {
   "computePreferences": null,
   "dashboards": [],
   "environmentMetadata": {
    "base_environment": "",
    "environment_version": "2"
   },
   "language": "python",
   "notebookMetadata": {
    "mostRecentlyExecutedCommandWithImplicitDF": {
     "commandId": 6736544397469200,
     "dataframes": [
      "_sqldf"
     ]
    },
    "pythonIndentUnit": 4
   },
   "notebookName": "Load_into_Gold",
   "widgets": {}
  },
  "language_info": {
   "name": "python"
  }
 },
 "nbformat": 4,
 "nbformat_minor": 0
}
