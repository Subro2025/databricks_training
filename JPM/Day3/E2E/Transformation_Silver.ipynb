{
 "cells": [
  {
   "cell_type": "code",
   "execution_count": 0,
   "metadata": {
    "application/vnd.databricks.v1+cell": {
     "cellMetadata": {
      "byteLimit": 2048000,
      "implicitDf": true,
      "rowLimit": 10000
     },
     "inputWidgets": {},
     "nuid": "27668260-aab3-4916-8b7e-800f792cc933",
     "showTitle": false,
     "tableResultSettingsMap": {},
     "title": ""
    }
   },
   "outputs": [],
   "source": [
    "%sql\n",
    "create or replace table jpm.subro_silver.customer as\n",
    "select cust_id, name, cast(age as int) as age, gender, birthday, \n",
    "make_date(split_part(birthday,'/',3), split_part(birthday,'/',1), split_part(birthday,'/',2)) as birthdate,\n",
    "cast(zip as int), replace(city,'_','') as city\n",
    "from jpm.subro_bronze.customer;"
   ]
  },
  {
   "cell_type": "code",
   "execution_count": 0,
   "metadata": {
    "application/vnd.databricks.v1+cell": {
     "cellMetadata": {
      "byteLimit": 2048000,
      "implicitDf": true,
      "rowLimit": 10000
     },
     "inputWidgets": {},
     "nuid": "7ae34315-d345-4568-897c-f57ad1d56299",
     "showTitle": false,
     "tableResultSettingsMap": {},
     "title": ""
    }
   },
   "outputs": [],
   "source": [
    "%sql\n",
    "create or replace table jpm.subro_silver.transactions as\n",
    "select cust_id, \n",
    "make_date(split_part(start_date,'-',1), split_part(start_date,'-',2), split_part(start_date,'-',1)) as start_date,\n",
    "make_date(split_part(end_date,'-',1), split_part(end_date,'-',2), split_part(end_date,'-',1)) as end_date,\n",
    "txn_id,\n",
    "make_date(split_part(date,'-',1), split_part(date,'-',2), split_part(date,'-',1)) as date,\n",
    "expense_type,\n",
    "cast(amt as float) as amt,\n",
    "city\n",
    " from jpm.subro_bronze.transactions;"
   ]
  }
 ],
 "metadata": {
  "application/vnd.databricks.v1+notebook": {
   "computePreferences": null,
   "dashboards": [],
   "environmentMetadata": {
    "base_environment": "",
    "environment_version": "2"
   },
   "language": "python",
   "notebookMetadata": {
    "mostRecentlyExecutedCommandWithImplicitDF": {
     "commandId": 6736544397468823,
     "dataframes": [
      "_sqldf"
     ]
    },
    "pythonIndentUnit": 4
   },
   "notebookName": "Transformation_Silver",
   "widgets": {}
  },
  "language_info": {
   "name": "python"
  }
 },
 "nbformat": 4,
 "nbformat_minor": 0
}
