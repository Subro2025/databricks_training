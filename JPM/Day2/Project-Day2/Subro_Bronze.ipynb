{
 "cells": [
  {
   "cell_type": "markdown",
   "metadata": {
    "application/vnd.databricks.v1+cell": {
     "cellMetadata": {},
     "inputWidgets": {},
     "nuid": "7fc0a4f2-d4ea-4cb0-a722-17d0bdc0587b",
     "showTitle": false,
     "tableResultSettingsMap": {},
     "title": ""
    }
   },
   "source": [
    "# **Project Hands-on**"
   ]
  },
  {
   "cell_type": "markdown",
   "metadata": {
    "application/vnd.databricks.v1+cell": {
     "cellMetadata": {},
     "inputWidgets": {},
     "nuid": "9f4e6efb-232b-43c0-936d-03f3429df368",
     "showTitle": false,
     "tableResultSettingsMap": {},
     "title": ""
    }
   },
   "source": [
    "![](/Volumes/jpm/naval/csv/Screenshot 2025-02-25 at 5.15.48 PM.png)"
   ]
  },
  {
   "cell_type": "code",
   "execution_count": 0,
   "metadata": {
    "application/vnd.databricks.v1+cell": {
     "cellMetadata": {
      "byteLimit": 2048000,
      "implicitDf": true,
      "rowLimit": 10000
     },
     "inputWidgets": {},
     "nuid": "8d92e822-78c0-4902-9feb-c0859c74834f",
     "showTitle": true,
     "tableResultSettingsMap": {},
     "title": "Create Schemas"
    }
   },
   "outputs": [],
   "source": [
    "%sql\n",
    "use catalog jpm;\n",
    "create schema if not exists subro_bronze;\n",
    "create schema if not exists subro_silver;\n",
    "create schema if not exists subro_gold;"
   ]
  },
  {
   "cell_type": "code",
   "execution_count": 0,
   "metadata": {
    "application/vnd.databricks.v1+cell": {
     "cellMetadata": {
      "byteLimit": 2048000,
      "rowLimit": 10000
     },
     "inputWidgets": {},
     "nuid": "973bf968-1b72-4c5a-bbe3-e178b7d9fa64",
     "showTitle": true,
     "tableResultSettingsMap": {},
     "title": "Load into Bronze Table"
    }
   },
   "outputs": [],
   "source": [
    "df=spark.read.csv(\"/Volumes/jpm/subro/financial/Financial Sample.csv\",header=True,inferSchema=True)"
   ]
  },
  {
   "cell_type": "code",
   "execution_count": 0,
   "metadata": {
    "application/vnd.databricks.v1+cell": {
     "cellMetadata": {
      "byteLimit": 2048000,
      "implicitDf": true,
      "rowLimit": 10000
     },
     "inputWidgets": {},
     "nuid": "c288e68f-b2d1-4650-9940-15b539a55866",
     "showTitle": false,
     "tableResultSettingsMap": {},
     "title": ""
    }
   },
   "outputs": [],
   "source": [
    "%sql\n",
    "drop table jpm.subro_bronze.financials_sample;"
   ]
  },
  {
   "cell_type": "code",
   "execution_count": 0,
   "metadata": {
    "application/vnd.databricks.v1+cell": {
     "cellMetadata": {
      "byteLimit": 2048000,
      "rowLimit": 10000
     },
     "inputWidgets": {},
     "nuid": "b002f49a-0978-41d2-8084-8046ca6f6f45",
     "showTitle": true,
     "tableResultSettingsMap": {
      "0": {
       "filterBlob": "{\"filterGroups\":[],\"syncTimestamp\":1740485137320}",
       "tableResultIndex": 0
      }
     },
     "title": "Write to Bronze Table"
    }
   },
   "outputs": [],
   "source": [
    "df.write.mode(\"overwrite\").saveAsTable(\"jpm.subro_bronze.financials_sample\")"
   ]
  },
  {
   "cell_type": "code",
   "execution_count": 0,
   "metadata": {
    "application/vnd.databricks.v1+cell": {
     "cellMetadata": {
      "byteLimit": 2048000,
      "implicitDf": true,
      "rowLimit": 10000
     },
     "inputWidgets": {},
     "nuid": "66ab036c-aea9-405c-9a93-5698d8a17d36",
     "showTitle": true,
     "tableResultSettingsMap": {},
     "title": "Add Ingestion Date"
    }
   },
   "outputs": [],
   "source": [
    "%sql\n",
    "alter table jpm.subro_bronze.financials_sample add columns ingestion_dt date;"
   ]
  },
  {
   "cell_type": "code",
   "execution_count": 0,
   "metadata": {
    "application/vnd.databricks.v1+cell": {
     "cellMetadata": {
      "byteLimit": 2048000,
      "implicitDf": true,
      "rowLimit": 10000
     },
     "inputWidgets": {},
     "nuid": "4dc96249-cc55-4b26-9559-d957b09ce2c2",
     "showTitle": true,
     "tableResultSettingsMap": {},
     "title": "Update Ingestion with Current TS"
    }
   },
   "outputs": [],
   "source": [
    "%sql\n",
    "update jpm.subro_bronze.financials_sample set ingestion_dt = current_date();"
   ]
  },
  {
   "cell_type": "code",
   "execution_count": 0,
   "metadata": {
    "application/vnd.databricks.v1+cell": {
     "cellMetadata": {
      "byteLimit": 2048000,
      "implicitDf": true,
      "rowLimit": 10000
     },
     "inputWidgets": {},
     "nuid": "e8618b52-7a8b-40d6-9be1-24781d106a07",
     "showTitle": true,
     "tableResultSettingsMap": {},
     "title": "Check Data in Bronze"
    }
   },
   "outputs": [],
   "source": [
    "%sql\n",
    "select year,count(0) from jpm.subro_bronze.financials_sample group by year ;"
   ]
  },
  {
   "cell_type": "code",
   "execution_count": 0,
   "metadata": {
    "application/vnd.databricks.v1+cell": {
     "cellMetadata": {
      "byteLimit": 2048000,
      "implicitDf": true,
      "rowLimit": 10000
     },
     "inputWidgets": {},
     "nuid": "b047066d-7a32-4c54-8b11-ba7d4d2f2b91",
     "showTitle": false,
     "tableResultSettingsMap": {},
     "title": ""
    }
   },
   "outputs": [],
   "source": [
    "%sql\n",
    "select year, count(0) from (\n",
    "select * from jpm.subro_bronze.financials_sample\n",
    "group by segment, country, product, discount_band, units_sold, manufacturing_price, sale_price, gross_sales, discounts, sales, cogs, profit, date, month_number, month_name, year,ingestion_dt)\n",
    "group by 1;"
   ]
  },
  {
   "cell_type": "code",
   "execution_count": 0,
   "metadata": {
    "application/vnd.databricks.v1+cell": {
     "cellMetadata": {
      "byteLimit": 2048000,
      "implicitDf": true,
      "rowLimit": 10000
     },
     "inputWidgets": {},
     "nuid": "defb9606-e59b-475f-8b2c-fa106e1486bc",
     "showTitle": false,
     "tableResultSettingsMap": {},
     "title": ""
    }
   },
   "outputs": [],
   "source": [
    "%sql\n",
    "select count(0) from jpm.subro_bronze.financials_sample where year is null;"
   ]
  },
  {
   "cell_type": "code",
   "execution_count": 0,
   "metadata": {
    "application/vnd.databricks.v1+cell": {
     "cellMetadata": {
      "byteLimit": 2048000,
      "implicitDf": true,
      "rowLimit": 10000
     },
     "inputWidgets": {},
     "nuid": "7ee87b97-f2fa-473b-a9c3-59653db08cc6",
     "showTitle": false,
     "tableResultSettingsMap": {},
     "title": ""
    }
   },
   "outputs": [],
   "source": [
    "%sql\n",
    "create or replace table jpm.subro_silver.financials_sample as\n",
    "select * from jpm.subro_bronze.financials_sample\n",
    "group by segment, country, product, discount_band, units_sold, manufacturing_price, sale_price, gross_sales, discounts, sales, cogs, profit, date, month_number, month_name, year, ingestion_dt;"
   ]
  },
  {
   "cell_type": "code",
   "execution_count": 0,
   "metadata": {
    "application/vnd.databricks.v1+cell": {
     "cellMetadata": {
      "byteLimit": 2048000,
      "implicitDf": true,
      "rowLimit": 10000
     },
     "inputWidgets": {},
     "nuid": "adee5b3d-84f1-4716-a163-c3e4140841b1",
     "showTitle": false,
     "tableResultSettingsMap": {},
     "title": ""
    }
   },
   "outputs": [],
   "source": [
    "%sql\n",
    "select count(0) from jpm.subro_silver.financials_sample;"
   ]
  },
  {
   "cell_type": "code",
   "execution_count": 0,
   "metadata": {
    "application/vnd.databricks.v1+cell": {
     "cellMetadata": {
      "byteLimit": 2048000,
      "implicitDf": true,
      "rowLimit": 10000
     },
     "inputWidgets": {},
     "nuid": "8bbf4845-8c11-496e-8c5a-40abf2ed93da",
     "showTitle": false,
     "tableResultSettingsMap": {},
     "title": ""
    }
   },
   "outputs": [],
   "source": [
    "%sql\n",
    "select segment, country, product, ltrim(rtrim(discount_band)) as discount_band, cast(ltrim(rtrim(replace(units_sold,'$',''))) as int) as units_sold,\n",
    "cast(ltrim(rtrim(replace(manufacturing_price,'$',''))) as double) as manufacturing_price,\n",
    "cast(ltrim(rtrim(replace(sale_price,'$',''))) as double) as sale_price,\n",
    "cast(replace(ltrim(rtrim(gross_sales)),'$','') as int) as gross_sales,\n",
    "cast(ltrim(rtrim(replace(discounts,'$',''))) as double) as discounts,\n",
    "cast(ltrim(rtrim(replace(saless,'$',''))) as double) as saless,\n",
    "cast(ltrim(rtrim(replace(cogs,'$',''))) as double) as cogs,\n",
    "cast(ltrim(rtrim(replace(profit,'$',''))) as double) as profit\n",
    "from jpm.subro_bronze.financials_sample;"
   ]
  }
 ],
 "metadata": {
  "application/vnd.databricks.v1+notebook": {
   "computePreferences": null,
   "dashboards": [],
   "environmentMetadata": {
    "base_environment": "",
    "environment_version": "2"
   },
   "language": "python",
   "notebookMetadata": {
    "mostRecentlyExecutedCommandWithImplicitDF": {
     "commandId": 6602208895596152,
     "dataframes": [
      "_sqldf"
     ]
    },
    "pythonIndentUnit": 4
   },
   "notebookName": "Subro_Bronze",
   "widgets": {}
  },
  "language_info": {
   "name": "python"
  }
 },
 "nbformat": 4,
 "nbformat_minor": 0
}
