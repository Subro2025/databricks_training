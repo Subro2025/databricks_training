{
 "cells": [
  {
   "cell_type": "markdown",
   "metadata": {
    "application/vnd.databricks.v1+cell": {
     "cellMetadata": {},
     "inputWidgets": {},
     "nuid": "d68a57c4-9a4a-48fe-bdac-2abf056040f5",
     "showTitle": false,
     "tableResultSettingsMap": {},
     "title": ""
    }
   },
   "source": [
    "**_Autoloader and its uses_**"
   ]
  },
  {
   "cell_type": "code",
   "execution_count": 0,
   "metadata": {
    "application/vnd.databricks.v1+cell": {
     "cellMetadata": {},
     "inputWidgets": {},
     "nuid": "9755f415-93e3-49f0-929e-20e414dec871",
     "showTitle": false,
     "tableResultSettingsMap": {},
     "title": ""
    }
   },
   "outputs": [],
   "source": [
    "#variable desclataions\n",
    "stream_data=\"abfss://raw@adlsdatamaster.dfs.core.windows.net/stream_in\"\n",
    "auto_metadata=\"abfss://raw@adlsdatamaster.dfs.core.windows.net/checkpoint/subro109/autoloader\""
   ]
  },
  {
   "cell_type": "code",
   "execution_count": 0,
   "metadata": {
    "application/vnd.databricks.v1+cell": {
     "cellMetadata": {},
     "inputWidgets": {},
     "nuid": "cb4a9076-447c-4fdf-b58b-8d3c3510751d",
     "showTitle": false,
     "tableResultSettingsMap": {},
     "title": ""
    }
   },
   "outputs": [],
   "source": [
    "(spark\n",
    " .readStream\n",
    " .format(\"cloudFiles\")\n",
    ".option(\"cloudFiles.format\", \"csv\")\n",
    ".option(\"cloudFiles.schemaLocation\",f\"{auto_metadata}/schema\")\n",
    " .load(f\"{stream_data}\")\n",
    ".  writeStream\n",
    " .option(\"checkpointLocation\",f\"{auto_metadata}/checkpoint\")\n",
    " .option(\"mergeSchema\",True)\n",
    " #.trigger(once=True)\n",
    " .toTable(\"jpm.subro.autoloader\")\n",
    " )\n",
    "\n"
   ]
  }
 ],
 "metadata": {
  "application/vnd.databricks.v1+notebook": {
   "computePreferences": null,
   "dashboards": [],
   "environmentMetadata": {
    "base_environment": "",
    "environment_version": "2"
   },
   "language": "python",
   "notebookMetadata": {
    "pythonIndentUnit": 4
   },
   "notebookName": "AutoLoader",
   "widgets": {}
  },
  "language_info": {
   "name": "python"
  }
 },
 "nbformat": 4,
 "nbformat_minor": 0
}
